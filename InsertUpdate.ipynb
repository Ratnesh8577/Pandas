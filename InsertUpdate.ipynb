{
 "cells": [
  {
   "cell_type": "code",
   "execution_count": 1,
   "id": "20ae7ecf-f554-491d-88e6-71f075120c90",
   "metadata": {},
   "outputs": [],
   "source": [
    "import pandas as pd"
   ]
  },
  {
   "cell_type": "code",
   "execution_count": 6,
   "id": "716e9f48-7643-4726-b483-f90d707650b6",
   "metadata": {},
   "outputs": [
    {
     "name": "stdout",
     "output_type": "stream",
     "text": [
      "     Name  Age  Salary  Performance\n",
      "0     Ram   23    1000           88\n",
      "1  Shayam   22    2000           78\n",
      "2    Amit   24    3000           56\n",
      "3  Roshan   34    4000           45\n",
      "4  Ramesh   25    5000           76\n",
      "5  Sachin   30    6000           89\n"
     ]
    }
   ],
   "source": [
    "data = {\n",
    "    \"Name\":[\"Ram\",\"Shayam\",\"Amit\",\"Roshan\",\"Ramesh\",\"Sachin\"],\n",
    "    \"Age\":[23,22,24,34,25,30],\n",
    "    \"Salary\":[1000,2000,3000,4000,5000,6000],\n",
    "    \"Performance\":[88,78,56,45,76,89]\n",
    "}\n",
    "df = pd.DataFrame(data)\n",
    "print(df)"
   ]
  },
  {
   "cell_type": "code",
   "execution_count": 7,
   "id": "ffcf9f4d-0340-4a20-8bb6-27cfc018f18a",
   "metadata": {},
   "outputs": [
    {
     "name": "stdout",
     "output_type": "stream",
     "text": [
      "     Name  Age  Salary  Performance  Bonus\n",
      "0     Ram   23    1000           88  100.0\n",
      "1  Shayam   22    2000           78  200.0\n",
      "2    Amit   24    3000           56  300.0\n",
      "3  Roshan   34    4000           45  400.0\n",
      "4  Ramesh   25    5000           76  500.0\n",
      "5  Sachin   30    6000           89  600.0\n"
     ]
    }
   ],
   "source": [
    "data = {\n",
    "    \"Name\":[\"Ram\",\"Shayam\",\"Amit\",\"Roshan\",\"Ramesh\",\"Sachin\"],\n",
    "    \"Age\":[23,22,24,34,25,30],\n",
    "    \"Salary\":[1000,2000,3000,4000,5000,6000],\n",
    "    \"Performance\":[88,78,56,45,76,89]\n",
    "}\n",
    "df[\"Bonus\"]=df[\"Salary\"]*.1\n",
    "print(df)"
   ]
  },
  {
   "cell_type": "markdown",
   "id": "a78c63c9-9e77-4755-b400-e51e10f7b7ac",
   "metadata": {},
   "source": [
    "# Using Insert() method"
   ]
  },
  {
   "cell_type": "markdown",
   "id": "4d142acc-496b-464c-ac34-4d37048a45a8",
   "metadata": {},
   "source": [
    "#.  df.insert(loc,\"Columns\",some_data)"
   ]
  },
  {
   "cell_type": "code",
   "execution_count": 15,
   "id": "ec0e1aa5-6346-4431-9060-813ec9d8f1c5",
   "metadata": {},
   "outputs": [
    {
     "name": "stdout",
     "output_type": "stream",
     "text": [
      "   EmployeeID  EnployeeID  Enployee ID    Name  Age  Salary  Performance  \\\n",
      "0          10          10           10     Ram   23    1000           88   \n",
      "1          20          20           20  Shayam   22    2000           78   \n",
      "2          30          30           30    Amit   24    3000           56   \n",
      "3          40          40           40  Roshan   34    4000           45   \n",
      "4          50          50           50  Ramesh   25    5000           76   \n",
      "5          60          60           60  Sachin   30    6000           89   \n",
      "\n",
      "   Bonus  \n",
      "0  100.0  \n",
      "1  200.0  \n",
      "2  300.0  \n",
      "3  400.0  \n",
      "4  500.0  \n",
      "5  600.0  \n"
     ]
    }
   ],
   "source": [
    "df.insert(0,\"EmployeeID\",[10,20,30,40,50,60])\n",
    "print(df)"
   ]
  },
  {
   "cell_type": "code",
   "execution_count": 22,
   "id": "a4b7b1c8-b977-49df-9172-3f7a5dd4b970",
   "metadata": {},
   "outputs": [
    {
     "name": "stdout",
     "output_type": "stream",
     "text": [
      "   EmployeeID  EnployeeID  Enployee ID    Name  Age  Salary  Performance  \\\n",
      "0          10          10           10     Ram   23  1575.0           88   \n",
      "1          20          20           20  Shayam   22  2100.0           78   \n",
      "2          30          30           30    Amit   24  3150.0           56   \n",
      "3          40          40           40  Roshan   34  4200.0           45   \n",
      "4          50          50           50  Ramesh   25  5250.0           76   \n",
      "5          60          60           60  Sachin   30  6300.0           89   \n",
      "\n",
      "   Bonus  \n",
      "0  100.0  \n",
      "1  200.0  \n",
      "2  300.0  \n",
      "3  400.0  \n",
      "4  500.0  \n",
      "5  600.0  \n"
     ]
    }
   ],
   "source": [
    "df.dropna(axis=0)\n",
    "print(df)"
   ]
  },
  {
   "cell_type": "code",
   "execution_count": 19,
   "id": "e2227bd7-393f-43c4-b0b2-024b9c4a00b0",
   "metadata": {},
   "outputs": [
    {
     "data": {
      "text/html": [
       "<div>\n",
       "<style scoped>\n",
       "    .dataframe tbody tr th:only-of-type {\n",
       "        vertical-align: middle;\n",
       "    }\n",
       "\n",
       "    .dataframe tbody tr th {\n",
       "        vertical-align: top;\n",
       "    }\n",
       "\n",
       "    .dataframe thead th {\n",
       "        text-align: right;\n",
       "    }\n",
       "</style>\n",
       "<table border=\"1\" class=\"dataframe\">\n",
       "  <thead>\n",
       "    <tr style=\"text-align: right;\">\n",
       "      <th></th>\n",
       "      <th>EmployeeID</th>\n",
       "      <th>EnployeeID</th>\n",
       "      <th>Enployee ID</th>\n",
       "      <th>Name</th>\n",
       "      <th>Age</th>\n",
       "      <th>Salary</th>\n",
       "      <th>Performance</th>\n",
       "      <th>Bonus</th>\n",
       "    </tr>\n",
       "  </thead>\n",
       "  <tbody>\n",
       "    <tr>\n",
       "      <th>0</th>\n",
       "      <td>10</td>\n",
       "      <td>10</td>\n",
       "      <td>10</td>\n",
       "      <td>Ram</td>\n",
       "      <td>23</td>\n",
       "      <td>1000</td>\n",
       "      <td>88</td>\n",
       "      <td>100.0</td>\n",
       "    </tr>\n",
       "    <tr>\n",
       "      <th>1</th>\n",
       "      <td>20</td>\n",
       "      <td>20</td>\n",
       "      <td>20</td>\n",
       "      <td>Shayam</td>\n",
       "      <td>22</td>\n",
       "      <td>2000</td>\n",
       "      <td>78</td>\n",
       "      <td>200.0</td>\n",
       "    </tr>\n",
       "    <tr>\n",
       "      <th>2</th>\n",
       "      <td>30</td>\n",
       "      <td>30</td>\n",
       "      <td>30</td>\n",
       "      <td>Amit</td>\n",
       "      <td>24</td>\n",
       "      <td>3000</td>\n",
       "      <td>56</td>\n",
       "      <td>300.0</td>\n",
       "    </tr>\n",
       "    <tr>\n",
       "      <th>3</th>\n",
       "      <td>40</td>\n",
       "      <td>40</td>\n",
       "      <td>40</td>\n",
       "      <td>Roshan</td>\n",
       "      <td>34</td>\n",
       "      <td>4000</td>\n",
       "      <td>45</td>\n",
       "      <td>400.0</td>\n",
       "    </tr>\n",
       "    <tr>\n",
       "      <th>4</th>\n",
       "      <td>50</td>\n",
       "      <td>50</td>\n",
       "      <td>50</td>\n",
       "      <td>Ramesh</td>\n",
       "      <td>25</td>\n",
       "      <td>5000</td>\n",
       "      <td>76</td>\n",
       "      <td>500.0</td>\n",
       "    </tr>\n",
       "    <tr>\n",
       "      <th>5</th>\n",
       "      <td>60</td>\n",
       "      <td>60</td>\n",
       "      <td>60</td>\n",
       "      <td>Sachin</td>\n",
       "      <td>30</td>\n",
       "      <td>6000</td>\n",
       "      <td>89</td>\n",
       "      <td>600.0</td>\n",
       "    </tr>\n",
       "  </tbody>\n",
       "</table>\n",
       "</div>"
      ],
      "text/plain": [
       "   EmployeeID  EnployeeID  Enployee ID    Name  Age  Salary  Performance  \\\n",
       "0          10          10           10     Ram   23    1000           88   \n",
       "1          20          20           20  Shayam   22    2000           78   \n",
       "2          30          30           30    Amit   24    3000           56   \n",
       "3          40          40           40  Roshan   34    4000           45   \n",
       "4          50          50           50  Ramesh   25    5000           76   \n",
       "5          60          60           60  Sachin   30    6000           89   \n",
       "\n",
       "   Bonus  \n",
       "0  100.0  \n",
       "1  200.0  \n",
       "2  300.0  \n",
       "3  400.0  \n",
       "4  500.0  \n",
       "5  600.0  "
      ]
     },
     "execution_count": 19,
     "metadata": {},
     "output_type": "execute_result"
    }
   ],
   "source": [
    "df.dropna(axis=1)\n",
    "df"
   ]
  },
  {
   "cell_type": "markdown",
   "id": "dd4f20bd-8ea0-4c38-9763-e88063f39911",
   "metadata": {},
   "source": [
    "# UPDATING"
   ]
  },
  {
   "cell_type": "markdown",
   "id": "5f042e7a-d02e-47bc-b9b3-06280d1b36c7",
   "metadata": {},
   "source": [
    "# df.loc[row_index,\"column_Name\"] = new_Value"
   ]
  },
  {
   "cell_type": "code",
   "execution_count": 20,
   "id": "32ba2264-7bf6-42d0-9fe0-a91d54739915",
   "metadata": {},
   "outputs": [
    {
     "name": "stdout",
     "output_type": "stream",
     "text": [
      "   EmployeeID  EnployeeID  Enployee ID    Name  Age  Salary  Performance  \\\n",
      "0          10          10           10     Ram   23    1500           88   \n",
      "1          20          20           20  Shayam   22    2000           78   \n",
      "2          30          30           30    Amit   24    3000           56   \n",
      "3          40          40           40  Roshan   34    4000           45   \n",
      "4          50          50           50  Ramesh   25    5000           76   \n",
      "5          60          60           60  Sachin   30    6000           89   \n",
      "\n",
      "   Bonus  \n",
      "0  100.0  \n",
      "1  200.0  \n",
      "2  300.0  \n",
      "3  400.0  \n",
      "4  500.0  \n",
      "5  600.0  \n"
     ]
    }
   ],
   "source": [
    "df.loc[0,\"Salary\"] = 1500\n",
    "print(df)"
   ]
  },
  {
   "cell_type": "markdown",
   "id": "1e00728e-8b3f-42a7-b1ef-c84533611420",
   "metadata": {},
   "source": [
    "# updating increasing salary by 5%"
   ]
  },
  {
   "cell_type": "code",
   "execution_count": 21,
   "id": "950c416d-4158-4147-b5be-8dc32091bfc6",
   "metadata": {},
   "outputs": [
    {
     "name": "stdout",
     "output_type": "stream",
     "text": [
      "   EmployeeID  EnployeeID  Enployee ID    Name  Age  Salary  Performance  \\\n",
      "0          10          10           10     Ram   23  1575.0           88   \n",
      "1          20          20           20  Shayam   22  2100.0           78   \n",
      "2          30          30           30    Amit   24  3150.0           56   \n",
      "3          40          40           40  Roshan   34  4200.0           45   \n",
      "4          50          50           50  Ramesh   25  5250.0           76   \n",
      "5          60          60           60  Sachin   30  6300.0           89   \n",
      "\n",
      "   Bonus  \n",
      "0  100.0  \n",
      "1  200.0  \n",
      "2  300.0  \n",
      "3  400.0  \n",
      "4  500.0  \n",
      "5  600.0  \n"
     ]
    }
   ],
   "source": [
    "df[\"Salary\"] = df[\"Salary\"]*1.05\n",
    "print(df)"
   ]
  },
  {
   "cell_type": "markdown",
   "id": "653657b8-340f-42f8-bbee-e952a7b90214",
   "metadata": {},
   "source": [
    "# Dropna"
   ]
  },
  {
   "cell_type": "markdown",
   "id": "af4c5952-f2a1-4ce4-9af1-907daa273df2",
   "metadata": {},
   "source": [
    "#df.drop(columns = [\"ColumnsName\",\"ManyColumns\"],inplace=True)"
   ]
  },
  {
   "cell_type": "code",
   "execution_count": 24,
   "id": "96511768-4544-456d-bb49-092111c9f548",
   "metadata": {},
   "outputs": [
    {
     "name": "stdout",
     "output_type": "stream",
     "text": [
      "   EmployeeID  EnployeeID  Enployee ID    Name  Age  Salary  Performance  \\\n",
      "0          10          10           10     Ram   23  1575.0           88   \n",
      "1          20          20           20  Shayam   22  2100.0           78   \n",
      "2          30          30           30    Amit   24  3150.0           56   \n",
      "3          40          40           40  Roshan   34  4200.0           45   \n",
      "4          50          50           50  Ramesh   25  5250.0           76   \n",
      "5          60          60           60  Sachin   30  6300.0           89   \n",
      "\n",
      "   Bonus  \n",
      "0  100.0  \n",
      "1  200.0  \n",
      "2  300.0  \n",
      "3  400.0  \n",
      "4  500.0  \n",
      "5  600.0  \n",
      "   EnployeeID  Enployee ID    Name  Age  Salary  Performance  Bonus\n",
      "0          10           10     Ram   23  1575.0           88  100.0\n",
      "1          20           20  Shayam   22  2100.0           78  200.0\n",
      "2          30           30    Amit   24  3150.0           56  300.0\n",
      "3          40           40  Roshan   34  4200.0           45  400.0\n",
      "4          50           50  Ramesh   25  5250.0           76  500.0\n",
      "5          60           60  Sachin   30  6300.0           89  600.0\n"
     ]
    }
   ],
   "source": [
    "print(df)\n",
    "df.drop(columns=[\"EmployeeID\"],inplace=True)\n",
    "print(df)"
   ]
  },
  {
   "cell_type": "code",
   "execution_count": 26,
   "id": "8621b02f-d106-411b-ac61-3bc597bc20ad",
   "metadata": {},
   "outputs": [
    {
     "name": "stdout",
     "output_type": "stream",
     "text": [
      "   Enployee ID    Name  Age  Salary  Performance  Bonus\n",
      "0           10     Ram   23  1575.0           88  100.0\n",
      "1           20  Shayam   22  2100.0           78  200.0\n",
      "2           30    Amit   24  3150.0           56  300.0\n",
      "3           40  Roshan   34  4200.0           45  400.0\n",
      "4           50  Ramesh   25  5250.0           76  500.0\n",
      "5           60  Sachin   30  6300.0           89  600.0\n"
     ]
    }
   ],
   "source": [
    "df.drop(columns=[\"EnployeeID\"],inplace=True)\n",
    "print(df)"
   ]
  },
  {
   "cell_type": "code",
   "execution_count": 28,
   "id": "fc4b094e-2b7c-448c-ac09-3cfc87860f7c",
   "metadata": {},
   "outputs": [
    {
     "name": "stdout",
     "output_type": "stream",
     "text": [
      "     Name  Age  Salary  Performance  Bonus\n",
      "0     Ram   23  1575.0           88  100.0\n",
      "1  Shayam   22  2100.0           78  200.0\n",
      "2    Amit   24  3150.0           56  300.0\n",
      "3  Roshan   34  4200.0           45  400.0\n",
      "4  Ramesh   25  5250.0           76  500.0\n",
      "5  Sachin   30  6300.0           89  600.0\n"
     ]
    }
   ],
   "source": [
    "df.drop(columns=[\"Enployee ID\"],inplace=True)\n",
    "print(df)"
   ]
  },
  {
   "cell_type": "code",
   "execution_count": 29,
   "id": "e8a9fd96-c783-4019-91bf-fce7b1424b77",
   "metadata": {},
   "outputs": [
    {
     "name": "stdout",
     "output_type": "stream",
     "text": [
      "   EmployeeID    Name  Age  Salary  Performance  Bonus\n",
      "0          10     Ram   23  1575.0           88  100.0\n",
      "1          20  Shayam   22  2100.0           78  200.0\n",
      "2          30    Amit   24  3150.0           56  300.0\n",
      "3          40  Roshan   34  4200.0           45  400.0\n",
      "4          50  Ramesh   25  5250.0           76  500.0\n",
      "5          60  Sachin   30  6300.0           89  600.0\n"
     ]
    }
   ],
   "source": [
    "df.insert(0,\"EmployeeID\",[10,20,30,40,50,60])\n",
    "print(df)"
   ]
  },
  {
   "cell_type": "code",
   "execution_count": null,
   "id": "ca028c29-b4fa-40ac-b879-da4fc261e767",
   "metadata": {},
   "outputs": [],
   "source": []
  }
 ],
 "metadata": {
  "kernelspec": {
   "display_name": "Python 3 (ipykernel)",
   "language": "python",
   "name": "python3"
  },
  "language_info": {
   "codemirror_mode": {
    "name": "ipython",
    "version": 3
   },
   "file_extension": ".py",
   "mimetype": "text/x-python",
   "name": "python",
   "nbconvert_exporter": "python",
   "pygments_lexer": "ipython3",
   "version": "3.13.2"
  },
  "widgets": {
   "application/vnd.jupyter.widget-state+json": {
    "state": {},
    "version_major": 2,
    "version_minor": 0
   }
  }
 },
 "nbformat": 4,
 "nbformat_minor": 5
}

{
 "cells": [
  {
   "cell_type": "markdown",
   "id": "1a2bffcb-eb74-454e-8f61-c43ca5630dae",
   "metadata": {},
   "source": [
    "# HANDLING MISSING DATA"
   ]
  },
  {
   "cell_type": "code",
   "execution_count": 1,
   "id": "8b84e1a5-45f2-4160-857c-093672e87670",
   "metadata": {},
   "outputs": [],
   "source": [
    "# NaN (Not a number )\n",
    "# None (for object data types)\n",
    "# isnull()\n",
    "\n",
    "# True = NaN is missing\n",
    "#False = Value is present"
   ]
  },
  {
   "cell_type": "code",
   "execution_count": 3,
   "id": "5fdd7681-a06a-4ffe-b382-1467b0cc33b9",
   "metadata": {},
   "outputs": [
    {
     "name": "stdout",
     "output_type": "stream",
     "text": [
      "     Name   Age  Salary  Performance\n",
      "0     Ram  23.0  1000.0         88.0\n",
      "1    None   NaN     NaN          NaN\n",
      "2  Shayam  22.0  2000.0         78.0\n",
      "3    Amit  24.0  3000.0         56.0\n",
      "4  Roshan  34.0  4000.0         45.0\n",
      "5  Ramesh  25.0  5000.0         76.0\n",
      "6  Sachin  30.0  6000.0         89.0\n"
     ]
    }
   ],
   "source": [
    "import pandas as pd\n",
    "data = {\n",
    "    \"Name\":[\"Ram\",None,\"Shayam\",\"Amit\",\"Roshan\",\"Ramesh\",\"Sachin\"],\n",
    "    \"Age\":[23,None,22,24,34,25,30],\n",
    "    \"Salary\":[1000,None,2000,3000,4000,5000,6000],\n",
    "    \"Performance\":[88,None,78,56,45,76,89]\n",
    "}\n",
    "df = pd.DataFrame(data)\n",
    "print(df)"
   ]
  },
  {
   "cell_type": "code",
   "execution_count": 4,
   "id": "ca373dca-db57-4aa0-b7bd-2a3dce8aff10",
   "metadata": {},
   "outputs": [
    {
     "name": "stdout",
     "output_type": "stream",
     "text": [
      "    Name    Age  Salary  Performance\n",
      "0  False  False   False        False\n",
      "1   True   True    True         True\n",
      "2  False  False   False        False\n",
      "3  False  False   False        False\n",
      "4  False  False   False        False\n",
      "5  False  False   False        False\n",
      "6  False  False   False        False\n"
     ]
    }
   ],
   "source": [
    "print(df.isnull())"
   ]
  },
  {
   "cell_type": "code",
   "execution_count": 5,
   "id": "265203ed-f871-42c1-aafd-ac8bcff5898c",
   "metadata": {},
   "outputs": [
    {
     "name": "stdout",
     "output_type": "stream",
     "text": [
      "Name           1\n",
      "Age            1\n",
      "Salary         1\n",
      "Performance    1\n",
      "dtype: int64\n"
     ]
    }
   ],
   "source": [
    "print(df.isnull().sum())"
   ]
  },
  {
   "cell_type": "markdown",
   "id": "27157407-b98e-4412-9e55-621204f09d11",
   "metadata": {},
   "source": [
    "# Dropna"
   ]
  },
  {
   "cell_type": "code",
   "execution_count": 6,
   "id": "9097898b-4ba3-44aa-8163-85d11bb1e332",
   "metadata": {},
   "outputs": [
    {
     "name": "stdout",
     "output_type": "stream",
     "text": [
      "     Name   Age  Salary  Performance\n",
      "0     Ram  23.0  1000.0         88.0\n",
      "2  Shayam  22.0  2000.0         78.0\n",
      "3    Amit  24.0  3000.0         56.0\n",
      "4  Roshan  34.0  4000.0         45.0\n",
      "5  Ramesh  25.0  5000.0         76.0\n",
      "6  Sachin  30.0  6000.0         89.0\n"
     ]
    }
   ],
   "source": [
    "df.dropna(inplace=True)\n",
    "print(df)"
   ]
  },
  {
   "cell_type": "markdown",
   "id": "fc87c82c-3340-414c-ae29-70e5fd890258",
   "metadata": {},
   "source": [
    "# fillna"
   ]
  },
  {
   "cell_type": "code",
   "execution_count": 7,
   "id": "a7511e62-5e75-4368-888a-df24ffb6ee14",
   "metadata": {},
   "outputs": [
    {
     "name": "stdout",
     "output_type": "stream",
     "text": [
      "     Name   Age  Salary  Performance\n",
      "0     Ram  23.0  1000.0         88.0\n",
      "1    None   NaN     NaN          NaN\n",
      "2  Shayam  22.0  2000.0         78.0\n",
      "3    Amit  24.0  3000.0         56.0\n",
      "4  Roshan  34.0  4000.0         45.0\n",
      "5  Ramesh  25.0  5000.0         76.0\n",
      "6  Sachin  30.0  6000.0         89.0\n"
     ]
    }
   ],
   "source": [
    "import pandas as pd\n",
    "data = {\n",
    "    \"Name\":[\"Ram\",None,\"Shayam\",\"Amit\",\"Roshan\",\"Ramesh\",\"Sachin\"],\n",
    "    \"Age\":[23,None,22,24,34,25,30],\n",
    "    \"Salary\":[1000,None,2000,3000,4000,5000,6000],\n",
    "    \"Performance\":[88,None,78,56,45,76,89]\n",
    "}\n",
    "df = pd.DataFrame(data)\n",
    "print(df)"
   ]
  },
  {
   "cell_type": "code",
   "execution_count": 8,
   "id": "2946cfa2-cb4d-42a4-808b-5d29c311a097",
   "metadata": {},
   "outputs": [
    {
     "name": "stdout",
     "output_type": "stream",
     "text": [
      "     Name   Age  Salary  Performance\n",
      "0     Ram  23.0  1000.0         88.0\n",
      "1       0   0.0     0.0          0.0\n",
      "2  Shayam  22.0  2000.0         78.0\n",
      "3    Amit  24.0  3000.0         56.0\n",
      "4  Roshan  34.0  4000.0         45.0\n",
      "5  Ramesh  25.0  5000.0         76.0\n",
      "6  Sachin  30.0  6000.0         89.0\n"
     ]
    }
   ],
   "source": [
    "df.fillna(0,inplace=True)\n",
    "print(df)"
   ]
  },
  {
   "cell_type": "code",
   "execution_count": 10,
   "id": "a50cd061-92e5-4b24-b437-0edb67708d4b",
   "metadata": {},
   "outputs": [
    {
     "name": "stderr",
     "output_type": "stream",
     "text": [
      "/var/folders/zn/6mrjmx615t1727pg7bjz8sz00000gn/T/ipykernel_12999/480454943.py:1: FutureWarning: A value is trying to be set on a copy of a DataFrame or Series through chained assignment using an inplace method.\n",
      "The behavior will change in pandas 3.0. This inplace method will never work because the intermediate object on which we are setting values always behaves as a copy.\n",
      "\n",
      "For example, when doing 'df[col].method(value, inplace=True)', try using 'df.method({col: value}, inplace=True)' or df[col] = df[col].method(value) instead, to perform the operation inplace on the original object.\n",
      "\n",
      "\n",
      "  df[\"Age\"].fillna(df[\"Age\"].mean(),inplace=True)\n"
     ]
    }
   ],
   "source": [
    "df[\"Age\"].fillna(df[\"Age\"].mean(),inplace=True)\n"
   ]
  },
  {
   "cell_type": "code",
   "execution_count": null,
   "id": "299f881a-934a-4332-b920-5c9cbdc30749",
   "metadata": {},
   "outputs": [],
   "source": []
  }
 ],
 "metadata": {
  "kernelspec": {
   "display_name": "Python 3 (ipykernel)",
   "language": "python",
   "name": "python3"
  },
  "language_info": {
   "codemirror_mode": {
    "name": "ipython",
    "version": 3
   },
   "file_extension": ".py",
   "mimetype": "text/x-python",
   "name": "python",
   "nbconvert_exporter": "python",
   "pygments_lexer": "ipython3",
   "version": "3.13.2"
  },
  "widgets": {
   "application/vnd.jupyter.widget-state+json": {
    "state": {},
    "version_major": 2,
    "version_minor": 0
   }
  }
 },
 "nbformat": 4,
 "nbformat_minor": 5
}

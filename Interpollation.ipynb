{
 "cells": [
  {
   "cell_type": "markdown",
   "id": "c1337f2a-a0ec-451e-9b09-0589c2802128",
   "metadata": {},
   "source": [
    "#Interpollation"
   ]
  },
  {
   "cell_type": "code",
   "execution_count": 1,
   "id": "106a4362-8ff7-44f7-b884-19cee3bdc78a",
   "metadata": {},
   "outputs": [],
   "source": [
    "# 1) preserve data integrity\n",
    "# 2) Smooth trends\n",
    "# 3) Avoid data loss\n"
   ]
  },
  {
   "cell_type": "markdown",
   "id": "4ab54de2-3e17-4bd2-ab97-10f75c22e823",
   "metadata": {},
   "source": [
    "#. interpolate()"
   ]
  },
  {
   "cell_type": "code",
   "execution_count": null,
   "id": "857f7720-0c3b-44e9-9120-7b4d887fc06e",
   "metadata": {},
   "outputs": [],
   "source": [
    "# Linear\n",
    "# Polynomial\n",
    "# time"
   ]
  },
  {
   "cell_type": "code",
   "execution_count": 2,
   "id": "d4693412-9989-4f52-89b3-72563afad62c",
   "metadata": {},
   "outputs": [
    {
     "name": "stdout",
     "output_type": "stream",
     "text": [
      "     Name   Age  Salary  Performance\n",
      "0     Ram  23.0  1000.0         88.0\n",
      "1    None   NaN     NaN          NaN\n",
      "2  Shayam  22.0  2000.0         78.0\n",
      "3    Amit  24.0  3000.0         56.0\n",
      "4  Roshan  34.0  4000.0         45.0\n",
      "5  Ramesh  25.0  5000.0         76.0\n",
      "6  Sachin  30.0  6000.0         89.0\n"
     ]
    }
   ],
   "source": [
    "import pandas as pd\n",
    "data = {\n",
    "    \"Name\":[\"Ram\",None,\"Shayam\",\"Amit\",\"Roshan\",\"Ramesh\",\"Sachin\"],\n",
    "    \"Age\":[23,None,22,24,34,25,30],\n",
    "    \"Salary\":[1000,None,2000,3000,4000,5000,6000],\n",
    "    \"Performance\":[88,None,78,56,45,76,89]\n",
    "}\n",
    "df = pd.DataFrame(data)\n",
    "print(df)"
   ]
  },
  {
   "cell_type": "code",
   "execution_count": 3,
   "id": "e7d9e44c-a0e3-426c-a701-b2331f7bf39a",
   "metadata": {},
   "outputs": [
    {
     "ename": "SyntaxError",
     "evalue": "positional argument follows keyword argument (1810583125.py, line 1)",
     "output_type": "error",
     "traceback": [
      "\u001b[0;36m  Cell \u001b[0;32mIn[3], line 1\u001b[0;36m\u001b[0m\n\u001b[0;31m    df.interpolate(method=\"linear\",axis,inplace=True)\u001b[0m\n\u001b[0m                                                    ^\u001b[0m\n\u001b[0;31mSyntaxError\u001b[0m\u001b[0;31m:\u001b[0m positional argument follows keyword argument\n"
     ]
    }
   ],
   "source": [
    "df.interpolate(method=\"linear\",axis,inplace=True)"
   ]
  },
  {
   "cell_type": "code",
   "execution_count": 5,
   "id": "cac0dd93-537c-4a81-85ea-07b822bee82e",
   "metadata": {},
   "outputs": [
    {
     "name": "stdout",
     "output_type": "stream",
     "text": [
      "   Time  Value\n",
      "0     1   10.0\n",
      "1     2    NaN\n",
      "2     3   30.0\n",
      "3     4    NaN\n",
      "4     5   50.0\n"
     ]
    }
   ],
   "source": [
    "data = {\n",
    "    \"Time\":[1,2,3,4,5],\n",
    "    \"Value\":[10,None,30,None,50]\n",
    "}\n",
    "df= pd.DataFrame(data)\n",
    "print(df)"
   ]
  },
  {
   "cell_type": "code",
   "execution_count": 8,
   "id": "91dd1fc5-1698-4604-b42f-18788d3e3191",
   "metadata": {},
   "outputs": [
    {
     "name": "stdout",
     "output_type": "stream",
     "text": [
      "Before interpolation\n",
      "   Time  Value  value\n",
      "0     1   10.0   10.0\n",
      "1     2    NaN   20.0\n",
      "2     3   30.0   30.0\n",
      "3     4    NaN   40.0\n",
      "4     5   50.0   50.0\n",
      "After interpolation\n",
      "   Time  Value  value\n",
      "0     1   10.0   10.0\n",
      "1     2    NaN   20.0\n",
      "2     3   30.0   30.0\n",
      "3     4    NaN   40.0\n",
      "4     5   50.0   50.0\n"
     ]
    }
   ],
   "source": [
    "print(\"Before interpolation\")\n",
    "print(df)\n",
    "df[\"value\"] = df[\"Value\"].interpolate(method=\"linear\")\n",
    "print(\"After interpolation\")\n",
    "print(df)\n"
   ]
  },
  {
   "cell_type": "code",
   "execution_count": null,
   "id": "93401957-b367-4ca3-8c03-c2cf40a6478e",
   "metadata": {},
   "outputs": [],
   "source": [
    "# 1) time series data\n",
    "# 2) numeric data with trends\n",
    "# 30 Avoid droping row"
   ]
  }
 ],
 "metadata": {
  "kernelspec": {
   "display_name": "Python 3 (ipykernel)",
   "language": "python",
   "name": "python3"
  },
  "language_info": {
   "codemirror_mode": {
    "name": "ipython",
    "version": 3
   },
   "file_extension": ".py",
   "mimetype": "text/x-python",
   "name": "python",
   "nbconvert_exporter": "python",
   "pygments_lexer": "ipython3",
   "version": "3.13.2"
  },
  "widgets": {
   "application/vnd.jupyter.widget-state+json": {
    "state": {},
    "version_major": 2,
    "version_minor": 0
   }
  }
 },
 "nbformat": 4,
 "nbformat_minor": 5
}

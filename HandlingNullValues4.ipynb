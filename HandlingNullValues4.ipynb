{
 "cells": [
  {
   "cell_type": "code",
   "execution_count": 1,
   "id": "0fc5815c-0231-41b0-ad9f-d6008cadcc7c",
   "metadata": {},
   "outputs": [],
   "source": [
    "import pandas as pd"
   ]
  },
  {
   "cell_type": "code",
   "execution_count": 7,
   "id": "3a204aac-fd0a-4527-a6da-6b739b8df6cc",
   "metadata": {},
   "outputs": [],
   "source": [
    "data = pd.read_csv(\"/Users/ratneshchauhan/Downloads/company_employee_details.csv\")"
   ]
  },
  {
   "cell_type": "code",
   "execution_count": 8,
   "id": "b96f81aa-ee1a-44b0-a470-5ae5dbbb5b50",
   "metadata": {},
   "outputs": [
    {
     "name": "stdout",
     "output_type": "stream",
     "text": [
      "      Unnamed: 0   company     department  employee_id  age  age_when_joined  \\\n",
      "0              0   Glasses        BigData           16   41               38   \n",
      "1              1   Glasses             AI           56   44               42   \n",
      "2              2  Cheerper        Support           59   41               40   \n",
      "3              3   Glasses         Design           40   39               32   \n",
      "4              4   Glasses  Search Engine           47   30               22   \n",
      "...          ...       ...            ...          ...  ...              ...   \n",
      "4995        4995  Cheerper  Search Engine           37   42               35   \n",
      "4996        4996   Glasses             AI            1   36               25   \n",
      "4997        4997   Glasses  Search Engine           20   35               30   \n",
      "4998        4998      Pear          Sales            9   49               48   \n",
      "4999        4999   Glasses             AI           36   43               38   \n",
      "\n",
      "      years_in_the_company         salary  annual_bonus  \\\n",
      "0                        3   68074.971354  17664.104103   \n",
      "1                        2   49092.147458  21551.141079   \n",
      "2                        1   40000.000000  23698.878851   \n",
      "3                        7  108192.465506  21570.929657   \n",
      "4                        9   71291.191132  21565.505715   \n",
      "...                    ...            ...           ...   \n",
      "4995                     7   76541.841502  17366.896122   \n",
      "4996                     9  113651.485089  20888.144794   \n",
      "4997                     5   77560.047560  24792.910000   \n",
      "4998                     1  153000.000000  11700.850325   \n",
      "4999                     5   91443.504951  13529.040663   \n",
      "\n",
      "      prior_years_experience  full_time  part_time  contractor  \n",
      "0                          3   0.000000   0.000000    1.000000  \n",
      "1                          2   0.000000   0.184991    1.000000  \n",
      "2                          2   0.000000   0.919887    0.662706  \n",
      "3                          1   0.930396   0.546206    0.000000  \n",
      "4                          2   0.525432   0.938412    0.000000  \n",
      "...                      ...        ...        ...         ...  \n",
      "4995                       2   0.269842   0.691977    0.038156  \n",
      "4996                       1   0.356024   0.098686    0.545462  \n",
      "4997                       2   0.179350   0.361727    0.459085  \n",
      "4998                       4   1.000000   0.000000    0.585987  \n",
      "4999                       4   0.755094   0.000000    0.462368  \n",
      "\n",
      "[5000 rows x 13 columns]\n"
     ]
    }
   ],
   "source": [
    "print(data)"
   ]
  },
  {
   "cell_type": "code",
   "execution_count": 9,
   "id": "3e50161a-ddac-4edf-bfbb-ee92f95abc99",
   "metadata": {},
   "outputs": [
    {
     "name": "stdout",
     "output_type": "stream",
     "text": [
      "      Unnamed: 0  company  department  employee_id    age  age_when_joined  \\\n",
      "0          False    False       False        False  False            False   \n",
      "1          False    False       False        False  False            False   \n",
      "2          False    False       False        False  False            False   \n",
      "3          False    False       False        False  False            False   \n",
      "4          False    False       False        False  False            False   \n",
      "...          ...      ...         ...          ...    ...              ...   \n",
      "4995       False    False       False        False  False            False   \n",
      "4996       False    False       False        False  False            False   \n",
      "4997       False    False       False        False  False            False   \n",
      "4998       False    False       False        False  False            False   \n",
      "4999       False    False       False        False  False            False   \n",
      "\n",
      "      years_in_the_company  salary  annual_bonus  prior_years_experience  \\\n",
      "0                    False   False         False                   False   \n",
      "1                    False   False         False                   False   \n",
      "2                    False   False         False                   False   \n",
      "3                    False   False         False                   False   \n",
      "4                    False   False         False                   False   \n",
      "...                    ...     ...           ...                     ...   \n",
      "4995                 False   False         False                   False   \n",
      "4996                 False   False         False                   False   \n",
      "4997                 False   False         False                   False   \n",
      "4998                 False   False         False                   False   \n",
      "4999                 False   False         False                   False   \n",
      "\n",
      "      full_time  part_time  contractor  \n",
      "0         False      False       False  \n",
      "1         False      False       False  \n",
      "2         False      False       False  \n",
      "3         False      False       False  \n",
      "4         False      False       False  \n",
      "...         ...        ...         ...  \n",
      "4995      False      False       False  \n",
      "4996      False      False       False  \n",
      "4997      False      False       False  \n",
      "4998      False      False       False  \n",
      "4999      False      False       False  \n",
      "\n",
      "[5000 rows x 13 columns]\n"
     ]
    }
   ],
   "source": [
    "print(data.isnull())"
   ]
  },
  {
   "cell_type": "code",
   "execution_count": 10,
   "id": "c07d5524-84e1-4c83-ad18-696575db05bd",
   "metadata": {},
   "outputs": [
    {
     "name": "stdout",
     "output_type": "stream",
     "text": [
      "Unnamed: 0                0\n",
      "company                   0\n",
      "department                0\n",
      "employee_id               0\n",
      "age                       0\n",
      "age_when_joined           0\n",
      "years_in_the_company      0\n",
      "salary                    0\n",
      "annual_bonus              0\n",
      "prior_years_experience    0\n",
      "full_time                 0\n",
      "part_time                 0\n",
      "contractor                0\n",
      "dtype: int64\n"
     ]
    }
   ],
   "source": [
    "print(data.isnull().sum())"
   ]
  },
  {
   "cell_type": "code",
   "execution_count": 11,
   "id": "42298ec2-8687-4475-89e7-aff23301d542",
   "metadata": {},
   "outputs": [
    {
     "name": "stdout",
     "output_type": "stream",
     "text": [
      "      Unnamed: 0   company     department  employee_id  age  age_when_joined  \\\n",
      "0              0   Glasses        BigData           16   41               38   \n",
      "1              1   Glasses             AI           56   44               42   \n",
      "2              2  Cheerper        Support           59   41               40   \n",
      "3              3   Glasses         Design           40   39               32   \n",
      "4              4   Glasses  Search Engine           47   30               22   \n",
      "...          ...       ...            ...          ...  ...              ...   \n",
      "4995        4995  Cheerper  Search Engine           37   42               35   \n",
      "4996        4996   Glasses             AI            1   36               25   \n",
      "4997        4997   Glasses  Search Engine           20   35               30   \n",
      "4998        4998      Pear          Sales            9   49               48   \n",
      "4999        4999   Glasses             AI           36   43               38   \n",
      "\n",
      "      years_in_the_company         salary  annual_bonus  \\\n",
      "0                        3   68074.971354  17664.104103   \n",
      "1                        2   49092.147458  21551.141079   \n",
      "2                        1   40000.000000  23698.878851   \n",
      "3                        7  108192.465506  21570.929657   \n",
      "4                        9   71291.191132  21565.505715   \n",
      "...                    ...            ...           ...   \n",
      "4995                     7   76541.841502  17366.896122   \n",
      "4996                     9  113651.485089  20888.144794   \n",
      "4997                     5   77560.047560  24792.910000   \n",
      "4998                     1  153000.000000  11700.850325   \n",
      "4999                     5   91443.504951  13529.040663   \n",
      "\n",
      "      prior_years_experience  full_time  part_time  contractor  \n",
      "0                          3   0.000000   0.000000    1.000000  \n",
      "1                          2   0.000000   0.184991    1.000000  \n",
      "2                          2   0.000000   0.919887    0.662706  \n",
      "3                          1   0.930396   0.546206    0.000000  \n",
      "4                          2   0.525432   0.938412    0.000000  \n",
      "...                      ...        ...        ...         ...  \n",
      "4995                       2   0.269842   0.691977    0.038156  \n",
      "4996                       1   0.356024   0.098686    0.545462  \n",
      "4997                       2   0.179350   0.361727    0.459085  \n",
      "4998                       4   1.000000   0.000000    0.585987  \n",
      "4999                       4   0.755094   0.000000    0.462368  \n",
      "\n",
      "[5000 rows x 13 columns]\n"
     ]
    }
   ],
   "source": [
    "print(data.dropna())"
   ]
  },
  {
   "cell_type": "code",
   "execution_count": 12,
   "id": "f96a7a91-f1b3-41d1-858b-02d844cd9d70",
   "metadata": {},
   "outputs": [
    {
     "name": "stdout",
     "output_type": "stream",
     "text": [
      "      Unnamed: 0   company     department  employee_id  age  age_when_joined  \\\n",
      "0              0   Glasses        BigData           16   41               38   \n",
      "1              1   Glasses             AI           56   44               42   \n",
      "2              2  Cheerper        Support           59   41               40   \n",
      "3              3   Glasses         Design           40   39               32   \n",
      "4              4   Glasses  Search Engine           47   30               22   \n",
      "...          ...       ...            ...          ...  ...              ...   \n",
      "4995        4995  Cheerper  Search Engine           37   42               35   \n",
      "4996        4996   Glasses             AI            1   36               25   \n",
      "4997        4997   Glasses  Search Engine           20   35               30   \n",
      "4998        4998      Pear          Sales            9   49               48   \n",
      "4999        4999   Glasses             AI           36   43               38   \n",
      "\n",
      "      years_in_the_company         salary  annual_bonus  \\\n",
      "0                        3   68074.971354  17664.104103   \n",
      "1                        2   49092.147458  21551.141079   \n",
      "2                        1   40000.000000  23698.878851   \n",
      "3                        7  108192.465506  21570.929657   \n",
      "4                        9   71291.191132  21565.505715   \n",
      "...                    ...            ...           ...   \n",
      "4995                     7   76541.841502  17366.896122   \n",
      "4996                     9  113651.485089  20888.144794   \n",
      "4997                     5   77560.047560  24792.910000   \n",
      "4998                     1  153000.000000  11700.850325   \n",
      "4999                     5   91443.504951  13529.040663   \n",
      "\n",
      "      prior_years_experience  full_time  part_time  contractor  \n",
      "0                          3   0.000000   0.000000    1.000000  \n",
      "1                          2   0.000000   0.184991    1.000000  \n",
      "2                          2   0.000000   0.919887    0.662706  \n",
      "3                          1   0.930396   0.546206    0.000000  \n",
      "4                          2   0.525432   0.938412    0.000000  \n",
      "...                      ...        ...        ...         ...  \n",
      "4995                       2   0.269842   0.691977    0.038156  \n",
      "4996                       1   0.356024   0.098686    0.545462  \n",
      "4997                       2   0.179350   0.361727    0.459085  \n",
      "4998                       4   1.000000   0.000000    0.585987  \n",
      "4999                       4   0.755094   0.000000    0.462368  \n",
      "\n",
      "[5000 rows x 13 columns]\n"
     ]
    }
   ],
   "source": [
    "print(data)"
   ]
  },
  {
   "cell_type": "code",
   "execution_count": 13,
   "id": "69443bf1-988d-4940-9fbe-5ed9eb67d9ab",
   "metadata": {},
   "outputs": [
    {
     "name": "stdout",
     "output_type": "stream",
     "text": [
      "      Unnamed: 0   company     department  employee_id  age  age_when_joined  \\\n",
      "0              0   Glasses        BigData           16   41               38   \n",
      "1              1   Glasses             AI           56   44               42   \n",
      "2              2  Cheerper        Support           59   41               40   \n",
      "3              3   Glasses         Design           40   39               32   \n",
      "4              4   Glasses  Search Engine           47   30               22   \n",
      "...          ...       ...            ...          ...  ...              ...   \n",
      "4995        4995  Cheerper  Search Engine           37   42               35   \n",
      "4996        4996   Glasses             AI            1   36               25   \n",
      "4997        4997   Glasses  Search Engine           20   35               30   \n",
      "4998        4998      Pear          Sales            9   49               48   \n",
      "4999        4999   Glasses             AI           36   43               38   \n",
      "\n",
      "      years_in_the_company         salary  annual_bonus  \\\n",
      "0                        3   68074.971354  17664.104103   \n",
      "1                        2   49092.147458  21551.141079   \n",
      "2                        1   40000.000000  23698.878851   \n",
      "3                        7  108192.465506  21570.929657   \n",
      "4                        9   71291.191132  21565.505715   \n",
      "...                    ...            ...           ...   \n",
      "4995                     7   76541.841502  17366.896122   \n",
      "4996                     9  113651.485089  20888.144794   \n",
      "4997                     5   77560.047560  24792.910000   \n",
      "4998                     1  153000.000000  11700.850325   \n",
      "4999                     5   91443.504951  13529.040663   \n",
      "\n",
      "      prior_years_experience  full_time  part_time  contractor  \n",
      "0                          3   0.000000   0.000000    1.000000  \n",
      "1                          2   0.000000   0.184991    1.000000  \n",
      "2                          2   0.000000   0.919887    0.662706  \n",
      "3                          1   0.930396   0.546206    0.000000  \n",
      "4                          2   0.525432   0.938412    0.000000  \n",
      "...                      ...        ...        ...         ...  \n",
      "4995                       2   0.269842   0.691977    0.038156  \n",
      "4996                       1   0.356024   0.098686    0.545462  \n",
      "4997                       2   0.179350   0.361727    0.459085  \n",
      "4998                       4   1.000000   0.000000    0.585987  \n",
      "4999                       4   0.755094   0.000000    0.462368  \n",
      "\n",
      "[5000 rows x 13 columns]\n"
     ]
    }
   ],
   "source": [
    "import numpy as np\n",
    "print(data.replace(np.nan,\"hai\"))"
   ]
  },
  {
   "cell_type": "code",
   "execution_count": 14,
   "id": "e4f1dda1-c2d5-4bab-b5c0-ea6b85b8582a",
   "metadata": {},
   "outputs": [
    {
     "name": "stdout",
     "output_type": "stream",
     "text": [
      "      Unnamed: 0   company     department  employee_id  age  age_when_joined  \\\n",
      "0              0   Glasses        BigData           16   41               38   \n",
      "1              1   Glasses             AI           56   44               42   \n",
      "2              2  Cheerper        Support           59   41               40   \n",
      "3              3   Glasses         Design           40   39               32   \n",
      "4              4   Glasses  Search Engine           47   30               22   \n",
      "...          ...       ...            ...          ...  ...              ...   \n",
      "4995        4995  Cheerper  Search Engine           37   42               35   \n",
      "4996        4996   Glasses             AI            1   36               25   \n",
      "4997        4997   Glasses  Search Engine           20   35               30   \n",
      "4998        4998      Pear          Sales            9   49               48   \n",
      "4999        4999   Glasses             AI           36   43               38   \n",
      "\n",
      "      years_in_the_company         salary  annual_bonus  \\\n",
      "0                        3   68074.971354  17664.104103   \n",
      "1                        2   49092.147458  21551.141079   \n",
      "2                        1   40000.000000  23698.878851   \n",
      "3                        7  108192.465506  21570.929657   \n",
      "4                        9   71291.191132  21565.505715   \n",
      "...                    ...            ...           ...   \n",
      "4995                     7   76541.841502  17366.896122   \n",
      "4996                     9  113651.485089  20888.144794   \n",
      "4997                     5   77560.047560  24792.910000   \n",
      "4998                     1  153000.000000  11700.850325   \n",
      "4999                     5   91443.504951  13529.040663   \n",
      "\n",
      "      prior_years_experience  full_time  part_time  contractor  \n",
      "0                          3   0.000000   0.000000    1.000000  \n",
      "1                          2   0.000000   0.184991    1.000000  \n",
      "2                          2   0.000000   0.919887    0.662706  \n",
      "3                          1   0.930396   0.546206    0.000000  \n",
      "4                          2   0.525432   0.938412    0.000000  \n",
      "...                      ...        ...        ...         ...  \n",
      "4995                       2   0.269842   0.691977    0.038156  \n",
      "4996                       1   0.356024   0.098686    0.545462  \n",
      "4997                       2   0.179350   0.361727    0.459085  \n",
      "4998                       4   1.000000   0.000000    0.585987  \n",
      "4999                       4   0.755094   0.000000    0.462368  \n",
      "\n",
      "[5000 rows x 13 columns]\n"
     ]
    },
    {
     "name": "stderr",
     "output_type": "stream",
     "text": [
      "/var/folders/zn/6mrjmx615t1727pg7bjz8sz00000gn/T/ipykernel_2973/2754045057.py:1: FutureWarning: DataFrame.fillna with 'method' is deprecated and will raise in a future version. Use obj.ffill() or obj.bfill() instead.\n",
      "  print(data.fillna(method = \"bfill\"))\n"
     ]
    }
   ],
   "source": [
    "print(data.fillna(method = \"bfill\"))"
   ]
  },
  {
   "cell_type": "code",
   "execution_count": null,
   "id": "57c4054b-150c-4098-b0a0-92f8080a63a6",
   "metadata": {},
   "outputs": [],
   "source": []
  }
 ],
 "metadata": {
  "kernelspec": {
   "display_name": "Python 3 (ipykernel)",
   "language": "python",
   "name": "python3"
  },
  "language_info": {
   "codemirror_mode": {
    "name": "ipython",
    "version": 3
   },
   "file_extension": ".py",
   "mimetype": "text/x-python",
   "name": "python",
   "nbconvert_exporter": "python",
   "pygments_lexer": "ipython3",
   "version": "3.13.2"
  },
  "widgets": {
   "application/vnd.jupyter.widget-state+json": {
    "state": {},
    "version_major": 2,
    "version_minor": 0
   }
  }
 },
 "nbformat": 4,
 "nbformat_minor": 5
}

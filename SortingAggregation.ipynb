{
 "cells": [
  {
   "cell_type": "markdown",
   "id": "d1f26208-f0f4-4f60-83ed-21fb60ac9073",
   "metadata": {},
   "source": [
    "# sorting data"
   ]
  },
  {
   "cell_type": "markdown",
   "id": "b5d02e40-4ebd-4be3-b166-669f036d7dc8",
   "metadata": {},
   "source": [
    "# SORTING SATA 1 COLUMNS sort_values()"
   ]
  },
  {
   "cell_type": "markdown",
   "id": "93c750f4-d17c-431a-ac65-c30de064ef03",
   "metadata": {},
   "source": [
    "#df.sort_values(by=\"Column Nmae\",true/False,inplace = True)"
   ]
  },
  {
   "cell_type": "code",
   "execution_count": 1,
   "id": "36707e10-261a-4aa4-b62e-5821c81aa8d2",
   "metadata": {},
   "outputs": [],
   "source": [
    "import pandas as pd"
   ]
  },
  {
   "cell_type": "code",
   "execution_count": 3,
   "id": "d16f3b26-5d18-494f-a6e4-d20624c167e7",
   "metadata": {},
   "outputs": [
    {
     "name": "stdout",
     "output_type": "stream",
     "text": [
      "    Name  Age  Salary\n",
      "0   Arun   28    1000\n",
      "1  Varun   34    2000\n",
      "2  Karun   22    3000\n"
     ]
    }
   ],
   "source": [
    "data ={\n",
    "    \"Name\":[\"Arun\",\"Varun\",\"Karun\"],\n",
    "    \"Age\":[28,34,22],\n",
    "    \"Salary\":[1000,2000,3000]\n",
    "}\n",
    "df= pd.DataFrame(data)\n",
    "print(df)"
   ]
  },
  {
   "cell_type": "code",
   "execution_count": 4,
   "id": "e551ebcb-2c9e-4552-a9c0-babe9ef62653",
   "metadata": {},
   "outputs": [
    {
     "name": "stdout",
     "output_type": "stream",
     "text": [
      "sort Age by descending\n",
      "    Name  Age  Salary\n",
      "2  Karun   22    3000\n",
      "0   Arun   28    1000\n",
      "1  Varun   34    2000\n"
     ]
    }
   ],
   "source": [
    "df.sort_values(by=\"Age\",ascending=True,inplace=True)\n",
    "print(\"sort Age by descending\")\n",
    "print(df)"
   ]
  },
  {
   "cell_type": "markdown",
   "id": "e012f0bd-f7c2-4e40-be0f-287644baf602",
   "metadata": {},
   "source": [
    "# More than one columns"
   ]
  },
  {
   "cell_type": "code",
   "execution_count": 8,
   "id": "cc2992b1-ef71-441c-a63f-5ad682d933b3",
   "metadata": {},
   "outputs": [
    {
     "name": "stdout",
     "output_type": "stream",
     "text": [
      "sort Age by descending\n",
      "    Name  Age  Salary\n",
      "2  Karun   22    3000\n",
      "0   Arun   28    1000\n",
      "1  Varun   34    2000\n"
     ]
    }
   ],
   "source": [
    "df.sort_values(by=[\"Age\",\"Salary\"],ascending=[True,False],inplace=True)\n",
    "print(\"sort Age by descending\")\n",
    "print(df)"
   ]
  },
  {
   "cell_type": "markdown",
   "id": "3cae2f22-cf1f-47c6-868d-6bb615594982",
   "metadata": {},
   "source": [
    "#Summary Statistics"
   ]
  },
  {
   "cell_type": "markdown",
   "id": "307bde7c-c3dc-4377-a12a-a6f08ab7f132",
   "metadata": {},
   "source": [
    "\"\"\"df[\"Column Nmae\"].mean()////\n",
    "   df[\"Column Nmae\"].sum()////\n",
    "   df[\"Column Nmae\"].min()///\n",
    "   df[\"Column Nmae\"].max()\"\"\""
   ]
  },
  {
   "cell_type": "code",
   "execution_count": null,
   "id": "abb2a2bd-786e-484f-8724-fd23bf9d16ad",
   "metadata": {},
   "outputs": [],
   "source": []
  }
 ],
 "metadata": {
  "kernelspec": {
   "display_name": "Python 3 (ipykernel)",
   "language": "python",
   "name": "python3"
  },
  "language_info": {
   "codemirror_mode": {
    "name": "ipython",
    "version": 3
   },
   "file_extension": ".py",
   "mimetype": "text/x-python",
   "name": "python",
   "nbconvert_exporter": "python",
   "pygments_lexer": "ipython3",
   "version": "3.13.2"
  },
  "widgets": {
   "application/vnd.jupyter.widget-state+json": {
    "state": {},
    "version_major": 2,
    "version_minor": 0
   }
  }
 },
 "nbformat": 4,
 "nbformat_minor": 5
}

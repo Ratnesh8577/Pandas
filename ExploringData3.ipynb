{
 "cells": [
  {
   "cell_type": "code",
   "execution_count": 1,
   "id": "ec4cc2f2-c685-4375-b0a6-254e31c1e9f9",
   "metadata": {},
   "outputs": [],
   "source": [
    "import pandas as pd"
   ]
  },
  {
   "cell_type": "code",
   "execution_count": 3,
   "id": "013d75bf-e5e1-4c36-851b-e8425da6a3e3",
   "metadata": {},
   "outputs": [
    {
     "name": "stdout",
     "output_type": "stream",
     "text": [
      "                    John       Doe                 120 jefferson st.  \\\n",
      "0                   Jack  McGinnis                      220 hobo Av.   \n",
      "1          John \"Da Man\"    Repici                 120 Jefferson St.   \n",
      "2                Stephen     Tyler  7452 Terrace \"At the Plaza\" road   \n",
      "3                    NaN  Blankman                               NaN   \n",
      "4  Joan \"the bone\", Anne       Jet               9th, at Terrace plc   \n",
      "\n",
      "     Riverside   NJ   8075  \n",
      "0        Phila   PA   9119  \n",
      "1    Riverside   NJ   8075  \n",
      "2     SomeTown   SD  91234  \n",
      "3     SomeTown   SD    298  \n",
      "4  Desert City   CO    123  \n"
     ]
    }
   ],
   "source": [
    "data = pd.read_csv(\"/Users/ratneshchauhan/Downloads/addresses.csv\")\n",
    "print(data)\n"
   ]
  },
  {
   "cell_type": "code",
   "execution_count": 4,
   "id": "a99f1787-684d-4a33-9ed5-f7898f88aac5",
   "metadata": {},
   "outputs": [
    {
     "name": "stdout",
     "output_type": "stream",
     "text": [
      "<class 'pandas.core.frame.DataFrame'>\n",
      "RangeIndex: 5 entries, 0 to 4\n",
      "Data columns (total 6 columns):\n",
      " #   Column             Non-Null Count  Dtype \n",
      "---  ------             --------------  ----- \n",
      " 0   John               4 non-null      object\n",
      " 1   Doe                5 non-null      object\n",
      " 2   120 jefferson st.  4 non-null      object\n",
      " 3   Riverside          5 non-null      object\n",
      " 4    NJ                5 non-null      object\n",
      " 5   8075               5 non-null      int64 \n",
      "dtypes: int64(1), object(5)\n",
      "memory usage: 372.0+ bytes\n",
      "None\n"
     ]
    }
   ],
   "source": [
    "print(data.info())"
   ]
  },
  {
   "cell_type": "code",
   "execution_count": 5,
   "id": "c905045d-9802-46df-b10f-b94bb8ac0604",
   "metadata": {},
   "outputs": [
    {
     "data": {
      "text/html": [
       "<div>\n",
       "<style scoped>\n",
       "    .dataframe tbody tr th:only-of-type {\n",
       "        vertical-align: middle;\n",
       "    }\n",
       "\n",
       "    .dataframe tbody tr th {\n",
       "        vertical-align: top;\n",
       "    }\n",
       "\n",
       "    .dataframe thead th {\n",
       "        text-align: right;\n",
       "    }\n",
       "</style>\n",
       "<table border=\"1\" class=\"dataframe\">\n",
       "  <thead>\n",
       "    <tr style=\"text-align: right;\">\n",
       "      <th></th>\n",
       "      <th>8075</th>\n",
       "    </tr>\n",
       "  </thead>\n",
       "  <tbody>\n",
       "    <tr>\n",
       "      <th>count</th>\n",
       "      <td>5.000000</td>\n",
       "    </tr>\n",
       "    <tr>\n",
       "      <th>mean</th>\n",
       "      <td>21769.800000</td>\n",
       "    </tr>\n",
       "    <tr>\n",
       "      <th>std</th>\n",
       "      <td>39059.209909</td>\n",
       "    </tr>\n",
       "    <tr>\n",
       "      <th>min</th>\n",
       "      <td>123.000000</td>\n",
       "    </tr>\n",
       "    <tr>\n",
       "      <th>25%</th>\n",
       "      <td>298.000000</td>\n",
       "    </tr>\n",
       "    <tr>\n",
       "      <th>50%</th>\n",
       "      <td>8075.000000</td>\n",
       "    </tr>\n",
       "    <tr>\n",
       "      <th>75%</th>\n",
       "      <td>9119.000000</td>\n",
       "    </tr>\n",
       "    <tr>\n",
       "      <th>max</th>\n",
       "      <td>91234.000000</td>\n",
       "    </tr>\n",
       "  </tbody>\n",
       "</table>\n",
       "</div>"
      ],
      "text/plain": [
       "               8075\n",
       "count      5.000000\n",
       "mean   21769.800000\n",
       "std    39059.209909\n",
       "min      123.000000\n",
       "25%      298.000000\n",
       "50%     8075.000000\n",
       "75%     9119.000000\n",
       "max    91234.000000"
      ]
     },
     "execution_count": 5,
     "metadata": {},
     "output_type": "execute_result"
    }
   ],
   "source": [
    "data.describe()"
   ]
  },
  {
   "cell_type": "code",
   "execution_count": 8,
   "id": "ddcb10cc-30e8-4b5a-98b5-3dbd59c14e98",
   "metadata": {},
   "outputs": [
    {
     "name": "stdout",
     "output_type": "stream",
     "text": [
      "John                 1\n",
      "Doe                  0\n",
      "120 jefferson st.    1\n",
      "Riverside            0\n",
      " NJ                  0\n",
      "8075                 0\n",
      "dtype: int64\n"
     ]
    }
   ],
   "source": [
    "print(data.isnull().sum())"
   ]
  },
  {
   "cell_type": "code",
   "execution_count": null,
   "id": "67ecf395-fa06-4d74-909d-1d779ad75fb9",
   "metadata": {},
   "outputs": [],
   "source": []
  }
 ],
 "metadata": {
  "kernelspec": {
   "display_name": "Python 3 (ipykernel)",
   "language": "python",
   "name": "python3"
  },
  "language_info": {
   "codemirror_mode": {
    "name": "ipython",
    "version": 3
   },
   "file_extension": ".py",
   "mimetype": "text/x-python",
   "name": "python",
   "nbconvert_exporter": "python",
   "pygments_lexer": "ipython3",
   "version": "3.13.2"
  },
  "widgets": {
   "application/vnd.jupyter.widget-state+json": {
    "state": {},
    "version_major": 2,
    "version_minor": 0
   }
  }
 },
 "nbformat": 4,
 "nbformat_minor": 5
}

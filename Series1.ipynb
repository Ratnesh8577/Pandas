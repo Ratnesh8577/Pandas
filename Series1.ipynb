{
 "cells": [
  {
   "cell_type": "code",
   "execution_count": null,
   "id": "085ef823-f6b4-4172-a720-1fdb373fa399",
   "metadata": {},
   "outputs": [],
   "source": [
    "#SERIES :-Series is a data types in data structure of pandans\n",
    "# It is one Dimensional labeled array \n",
    "# pd.Series()"
   ]
  },
  {
   "cell_type": "code",
   "execution_count": 1,
   "id": "4776b1c5-504c-434a-b43f-1b0c8e61a0b8",
   "metadata": {},
   "outputs": [
    {
     "name": "stdout",
     "output_type": "stream",
     "text": [
      "0    2\n",
      "1    4\n",
      "2    5\n",
      "3    7\n",
      "4    8\n",
      "5    1\n",
      "dtype: int64\n",
      "<class 'pandas.core.series.Series'>\n",
      "5\n"
     ]
    }
   ],
   "source": [
    "import pandas as pd\n",
    "x=[2,4,5,7,8,1] #Create a series\n",
    "var=pd.Series(x)\n",
    "print(var)\n",
    "print(type(var))\n",
    "print(var[2])  #Index no 2\n",
    "#Change the index number of var\n",
    "var = pd.Series(x,index=['a','b','c','d','e','f'],dtype=\"float\",name=\"python\")"
   ]
  },
  {
   "cell_type": "code",
   "execution_count": 4,
   "id": "5d3c0782-75eb-49f6-8eee-037fd33dc613",
   "metadata": {},
   "outputs": [
    {
     "name": "stdout",
     "output_type": "stream",
     "text": [
      "name    [python, c++, c, java]\n",
      "por           [12, 13, 14, 15]\n",
      "rank              [1, 4, 3, 2]\n",
      "dtype: object\n"
     ]
    }
   ],
   "source": [
    "dic = {\"name\":['python','c++','c','java'],\"por\":[12,13,14,15],\"rank\":[1,4,3,2]}\n",
    "\n",
    "var1 = pd.Series(dic)\n",
    "\n",
    "print(var1)\n"
   ]
  },
  {
   "cell_type": "code",
   "execution_count": 9,
   "id": "2872bb0b-c7e8-41bf-b22a-e3574304cf76",
   "metadata": {},
   "outputs": [
    {
     "name": "stdout",
     "output_type": "stream",
     "text": [
      "1    12\n",
      "2    12\n",
      "3    12\n",
      "4    12\n",
      "5    12\n",
      "6    12\n",
      "7    12\n",
      "dtype: int64\n",
      "<class 'pandas.core.series.Series'>\n"
     ]
    }
   ],
   "source": [
    "s = pd.Series(12,index=[1,2,3,4,5,6,7])\n",
    "#index number is 1,2,3,4---\n",
    "print(s)\n",
    "print(type(s))"
   ]
  },
  {
   "cell_type": "code",
   "execution_count": 10,
   "id": "e0e9311e-9392-44d0-aeed-1f1258994da3",
   "metadata": {},
   "outputs": [
    {
     "name": "stdout",
     "output_type": "stream",
     "text": [
      "1    24.0\n",
      "2    24.0\n",
      "3    24.0\n",
      "4    24.0\n",
      "5    24.0\n",
      "6     NaN\n",
      "7     NaN\n",
      "dtype: float64\n"
     ]
    }
   ],
   "source": [
    "s1 = pd.Series(12,index=[1,2,3,4,5,6,7])\n",
    "s2 = pd.Series(12,index=[1,2,3,4,5])\n",
    "\n",
    "print(s1+s2)\n",
    "#Pandas use the missing data but numpy is not use the missing data\n",
    "#NaN ,like as"
   ]
  },
  {
   "cell_type": "code",
   "execution_count": null,
   "id": "9b820180-3460-4ea3-9e94-4cc5be897b6e",
   "metadata": {},
   "outputs": [],
   "source": []
  }
 ],
 "metadata": {
  "kernelspec": {
   "display_name": "Python 3 (ipykernel)",
   "language": "python",
   "name": "python3"
  },
  "language_info": {
   "codemirror_mode": {
    "name": "ipython",
    "version": 3
   },
   "file_extension": ".py",
   "mimetype": "text/x-python",
   "name": "python",
   "nbconvert_exporter": "python",
   "pygments_lexer": "ipython3",
   "version": "3.13.2"
  }
 },
 "nbformat": 4,
 "nbformat_minor": 5
}

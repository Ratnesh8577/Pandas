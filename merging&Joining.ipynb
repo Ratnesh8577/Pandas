{
 "cells": [
  {
   "cell_type": "markdown",
   "id": "753b105e-dd62-4b22-b902-8f694db42ae6",
   "metadata": {},
   "source": [
    "#pd.merge(df1,df2,on=\"column_Name\",how+\"type of join\")"
   ]
  },
  {
   "cell_type": "code",
   "execution_count": 1,
   "id": "35599670-29c2-4657-8fe5-01ec21b7bf24",
   "metadata": {},
   "outputs": [],
   "source": [
    "import pandas as pd"
   ]
  },
  {
   "cell_type": "code",
   "execution_count": 3,
   "id": "00de6dc1-161f-422d-a8bb-1de0bff3adcb",
   "metadata": {},
   "outputs": [
    {
     "name": "stdout",
     "output_type": "stream",
     "text": [
      "inner join\n",
      "   CustomerID     Name  OrderAcount\n",
      "0           1   Ramesh          222\n",
      "1           2   Suresh           33\n",
      "2           3  kamlesh           44\n"
     ]
    }
   ],
   "source": [
    "#customer dataFrame\n",
    "customer = pd.DataFrame({\n",
    "    \"CustomerID\":[1,2,3],\n",
    "    \"Name\":[\"Ramesh\",\"Suresh\",\"kamlesh\"]\n",
    "})\n",
    "\n",
    "#order dataframe\n",
    "order= pd.DataFrame({\n",
    "    \"CustomerID\":[1,2,3],\n",
    "    \"OrderAcount\":[222,33,44]\n",
    "})\n",
    "\n",
    "#Merge\n",
    "df_merged = pd.merge(customer,order,on= \"CustomerID\",how=\"inner\")\n",
    "print(\"inner join\")\n",
    "print(df_merged)                     "
   ]
  },
  {
   "cell_type": "code",
   "execution_count": 4,
   "id": "0de55187-bd9f-4edd-a394-1502e8bdfff4",
   "metadata": {},
   "outputs": [
    {
     "name": "stdout",
     "output_type": "stream",
     "text": [
      "inner join\n",
      "   CustomerID     Name  OrderAcount\n",
      "0           1   Ramesh          222\n",
      "1           2   Suresh           33\n",
      "2           3  kamlesh           44\n"
     ]
    }
   ],
   "source": [
    "#Merge\n",
    "df_merged = pd.merge(customer,order,on= \"CustomerID\",how=\"outer\")\n",
    "print(\"inner join\")\n",
    "print(df_merged) "
   ]
  },
  {
   "cell_type": "code",
   "execution_count": 5,
   "id": "26c52e1a-6660-4ae4-a10f-177e773ffdcc",
   "metadata": {},
   "outputs": [
    {
     "name": "stdout",
     "output_type": "stream",
     "text": [
      "inner join\n",
      "   CustomerID     Name  OrderAcount\n",
      "0           1   Ramesh          222\n",
      "1           2   Suresh           33\n",
      "2           3  kamlesh           44\n"
     ]
    }
   ],
   "source": [
    "#Merge\n",
    "df_merged = pd.merge(customer,order,on= \"CustomerID\",how=\"left\")\n",
    "print(\"inner join\")\n",
    "print(df_merged) "
   ]
  },
  {
   "cell_type": "code",
   "execution_count": 6,
   "id": "e4020ebb-ebd3-4d8f-8268-4d4df95f085c",
   "metadata": {},
   "outputs": [
    {
     "name": "stdout",
     "output_type": "stream",
     "text": [
      "inner join\n",
      "   CustomerID     Name  OrderAcount\n",
      "0           1   Ramesh          222\n",
      "1           2   Suresh           33\n",
      "2           3  kamlesh           44\n"
     ]
    }
   ],
   "source": [
    "#Merge\n",
    "df_merged = pd.merge(customer,order,on= \"CustomerID\",how=\"right\")\n",
    "print(\"inner join\")\n",
    "print(df_merged) "
   ]
  },
  {
   "cell_type": "code",
   "execution_count": null,
   "id": "1e380931-0d4c-4cd5-ac08-5f5a5724dd1d",
   "metadata": {},
   "outputs": [],
   "source": []
  }
 ],
 "metadata": {
  "kernelspec": {
   "display_name": "Python 3 (ipykernel)",
   "language": "python",
   "name": "python3"
  },
  "language_info": {
   "codemirror_mode": {
    "name": "ipython",
    "version": 3
   },
   "file_extension": ".py",
   "mimetype": "text/x-python",
   "name": "python",
   "nbconvert_exporter": "python",
   "pygments_lexer": "ipython3",
   "version": "3.13.2"
  },
  "widgets": {
   "application/vnd.jupyter.widget-state+json": {
    "state": {},
    "version_major": 2,
    "version_minor": 0
   }
  }
 },
 "nbformat": 4,
 "nbformat_minor": 5
}

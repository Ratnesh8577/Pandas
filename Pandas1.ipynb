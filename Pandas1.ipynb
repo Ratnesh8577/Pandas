{
 "cells": [
  {
   "cell_type": "markdown",
   "id": "4622d39a-310a-421d-8c6a-8c256eaecd4d",
   "metadata": {},
   "source": [
    "PANDAS PRACTICAL"
   ]
  },
  {
   "cell_type": "markdown",
   "id": "3a8b0f5b-616e-4437-8e7a-304f2e0f4d3e",
   "metadata": {},
   "source": [
    "Pandas is Python packet providing fast flexible and expressive data structure designed to make with \n",
    "\"relational\" or \"labeled\" data data both easy and intuitive.\n",
    "here are just a few of the things that pandas does well:\n",
    "The names\"Pandas\" has a reference to both \"Panel Data\" ans Pythons data Analysis\n",
    " and was create by Wes Mckinney in 2008\n",
    "\n",
    "It has function for analyzing,cleaning ,exploring and manipulating data."
   ]
  },
  {
   "cell_type": "markdown",
   "id": "844e21ec-7c95-420d-bb15-c649c111f328",
   "metadata": {},
   "source": [
    "APPLICATION\n",
    "1) Automatically align the data for you in computations.\n",
    "2) Powerful ,flexible group by functionality.\n",
    "3)Intelligent label-based ,fancy indexing ,and subsetting of large data sets.\n",
    "4)Intuitive merging and joining data sets.\n",
    "5)flexible reshaping and pivoting of data sets."
   ]
  },
  {
   "cell_type": "markdown",
   "id": "a4b75b4c-a6f2-4a8a-8476-bf31c0a22a3c",
   "metadata": {},
   "source": [
    "DATA STRUCTURES IN\n",
    "\n",
    "The best way to thik about the pandas data structures is as flexible containers\n",
    "for lower dimensional data .For example ,DataFrame is a container for Series and Series is a \n",
    "containers for scalars."
   ]
  },
  {
   "cell_type": "markdown",
   "id": "068d36e4-ecaf-43d5-adcf-155b9d537082",
   "metadata": {},
   "source": [
    "Series in Pandas:- n Pandas, a Series is a one-dimensional array-like object \n",
    "that can hold various types of data — integers, floats, strings, Python \n",
    "objects, and more. It’s similar to a column in an Excel \n",
    "spreadsheet or a single column in a DataFrame."
   ]
  },
  {
   "cell_type": "markdown",
   "id": "8f374375-ab29-4482-a64e-1ae04663ea46",
   "metadata": {},
   "source": [
    "DATAFRAME:-In Pandas, a DataFrame is a two-dimensional, table-like structure \n",
    "with labeled axes (rows and columns). It’s the most commonly used data\n",
    "structure for handling tabular data, similar to an Excel \n",
    "sheet or SQL table. Let’s dive into the details:"
   ]
  },
  {
   "cell_type": "code",
   "execution_count": 1,
   "id": "18ca3f14-beae-4459-a5cb-ce854c528c4a",
   "metadata": {},
   "outputs": [],
   "source": [
    "import pandas as pd"
   ]
  },
  {
   "cell_type": "code",
   "execution_count": 2,
   "id": "ff27792d-4aef-4d4b-a650-453bb3d78913",
   "metadata": {},
   "outputs": [
    {
     "name": "stdout",
     "output_type": "stream",
     "text": [
      "    Name  Age  Salary\n",
      "0   John   25  300000\n",
      "1  Peter   28  450000\n",
      "2   Lisa   31   25000\n"
     ]
    }
   ],
   "source": [
    "data = {\"Name\":[\"John\",\"Peter\",\"Lisa\"],\n",
    "        \"Age\":[25,28,31],\n",
    "        \"Salary\":[300000,450000,25000]}\n",
    "df = pd.DataFrame(data)\n",
    "print(df)"
   ]
  },
  {
   "cell_type": "code",
   "execution_count": 3,
   "id": "9d6f5a8e-0513-4cab-88a3-590103e24db6",
   "metadata": {},
   "outputs": [],
   "source": [
    "data = pd.read_csv(\"/Users/ratneshchauhan/Downloads/customers-100.csv\")"
   ]
  },
  {
   "cell_type": "code",
   "execution_count": 4,
   "id": "e5745282-bd3f-481c-8d36-79e063605211",
   "metadata": {},
   "outputs": [
    {
     "name": "stdout",
     "output_type": "stream",
     "text": [
      "<class 'pandas.core.frame.DataFrame'>\n",
      "RangeIndex: 3 entries, 0 to 2\n",
      "Data columns (total 3 columns):\n",
      " #   Column  Non-Null Count  Dtype \n",
      "---  ------  --------------  ----- \n",
      " 0   Name    3 non-null      object\n",
      " 1   Age     3 non-null      int64 \n",
      " 2   Salary  3 non-null      int64 \n",
      "dtypes: int64(2), object(1)\n",
      "memory usage: 204.0+ bytes\n"
     ]
    }
   ],
   "source": [
    "df.info()"
   ]
  },
  {
   "cell_type": "code",
   "execution_count": 5,
   "id": "4183ee60-6814-4891-94b3-4505b6a62f71",
   "metadata": {},
   "outputs": [
    {
     "data": {
      "text/plain": [
       "Index(['Name', 'Age', 'Salary'], dtype='object')"
      ]
     },
     "execution_count": 5,
     "metadata": {},
     "output_type": "execute_result"
    }
   ],
   "source": [
    "df.columns"
   ]
  },
  {
   "cell_type": "code",
   "execution_count": null,
   "id": "e3c818b0-f18e-43ae-ba12-15b9e8408619",
   "metadata": {},
   "outputs": [],
   "source": []
  }
 ],
 "metadata": {
  "kernelspec": {
   "display_name": "Python 3 (ipykernel)",
   "language": "python",
   "name": "python3"
  },
  "language_info": {
   "codemirror_mode": {
    "name": "ipython",
    "version": 3
   },
   "file_extension": ".py",
   "mimetype": "text/x-python",
   "name": "python",
   "nbconvert_exporter": "python",
   "pygments_lexer": "ipython3",
   "version": "3.13.2"
  },
  "widgets": {
   "application/vnd.jupyter.widget-state+json": {
    "state": {},
    "version_major": 2,
    "version_minor": 0
   }
  }
 },
 "nbformat": 4,
 "nbformat_minor": 5
}

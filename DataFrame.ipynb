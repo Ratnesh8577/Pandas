{
 "cells": [
  {
   "cell_type": "code",
   "execution_count": null,
   "id": "6846f055-77da-4010-a15a-df07cc869466",
   "metadata": {},
   "outputs": [],
   "source": [
    "#DataFrame :-Two Dimensional data structure with ,columns ,row much like tables \n",
    "\n"
   ]
  },
  {
   "cell_type": "code",
   "execution_count": 1,
   "id": "3076e968-6f71-4371-996e-84b308a410d9",
   "metadata": {},
   "outputs": [
    {
     "name": "stdout",
     "output_type": "stream",
     "text": [
      "   0\n",
      "0  1\n",
      "1  2\n",
      "2  3\n",
      "3  4\n",
      "4  5\n",
      "5  6\n",
      "6  7\n",
      "<class 'pandas.core.frame.DataFrame'>\n"
     ]
    }
   ],
   "source": [
    "import pandas as pd\n",
    "list = [1,2,3,4,5,6,7]\n",
    "var = pd.DataFrame(list)\n",
    "print(var)\n",
    "print(type(var))"
   ]
  },
  {
   "cell_type": "code",
   "execution_count": 10,
   "id": "71cf247e-02de-4064-9547-21d6e840ac86",
   "metadata": {},
   "outputs": [
    {
     "name": "stdout",
     "output_type": "stream",
     "text": [
      "   a   s\n",
      "0  1   6\n",
      "1  2   7\n",
      "2  3   8\n",
      "3  4   9\n",
      "4  5  10\n"
     ]
    }
   ],
   "source": [
    "dict = {\"a\":[1,2,3,4,5],\"s\":[6,7,8,9,10]}\n",
    "\n",
    "var1 = pd.DataFrame(dict)\n",
    "\n",
    "#var1 = pd.DataFrame(dict,columns=[\"a\"])\n",
    "\n",
    "#var1 = pd.DataFrame(dict,columns=[\"a\",1],index=[\"a\",\"s\",'d','f','g'])\n",
    "\n",
    "print(var1)\n",
    "#print(var1[\"a\"])"
   ]
  },
  {
   "cell_type": "code",
   "execution_count": 12,
   "id": "d48ecd31-20a0-44cc-bccc-67e59063f437",
   "metadata": {},
   "outputs": [
    {
     "name": "stdout",
     "output_type": "stream",
     "text": [
      "    0   1   2   3   4\n",
      "0   1   2   3   4   5\n",
      "1  11  22  33  44  55\n"
     ]
    }
   ],
   "source": [
    "list = [[1,2,3,4,5],[11,22,33,44,55]]\n",
    "var2 = pd.DataFrame(list)\n",
    "print(var2)"
   ]
  },
  {
   "cell_type": "code",
   "execution_count": 13,
   "id": "61789d94-8a8f-4f2c-a4b1-b1c7e91cc64a",
   "metadata": {},
   "outputs": [
    {
     "name": "stdout",
     "output_type": "stream",
     "text": [
      "<class 'pandas.core.frame.DataFrame'>\n",
      "   s  r\n",
      "0  1  1\n",
      "1  2  2\n",
      "2  3  3\n",
      "3  4  4\n",
      "4  5  5\n"
     ]
    }
   ],
   "source": [
    "sr = {\"s\":pd.Series([1,2,3,4,5]),\"r\":pd.Series([1,2,3,4,5])}\n",
    "#two series add in list form\n",
    "\n",
    "var3 = pd.DataFrame(sr)\n",
    "\n",
    "print(type(var3))\n",
    "\n",
    "print(var3)\n"
   ]
  },
  {
   "cell_type": "code",
   "execution_count": null,
   "id": "203af9c7-aea1-4474-86ad-81fd2c7ac6b1",
   "metadata": {},
   "outputs": [],
   "source": []
  }
 ],
 "metadata": {
  "kernelspec": {
   "display_name": "Python 3 (ipykernel)",
   "language": "python",
   "name": "python3"
  },
  "language_info": {
   "codemirror_mode": {
    "name": "ipython",
    "version": 3
   },
   "file_extension": ".py",
   "mimetype": "text/x-python",
   "name": "python",
   "nbconvert_exporter": "python",
   "pygments_lexer": "ipython3",
   "version": "3.13.2"
  }
 },
 "nbformat": 4,
 "nbformat_minor": 5
}
